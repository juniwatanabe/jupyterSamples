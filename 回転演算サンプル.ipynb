{
 "cells": [
  {
   "cell_type": "code",
   "execution_count": 12,
   "metadata": {},
   "outputs": [
    {
     "name": "stdout",
     "output_type": "stream",
     "text": [
      "a=[1 0]\n",
      "R=[[ 0.70710678 -0.70710678]\n",
      " [ 0.70710678  0.70710678]]\n",
      "b=[[0.70710678 0.70710678]]\n"
     ]
    }
   ],
   "source": [
    "# -*- coding: utf-8 -*-\n",
    "import numpy as np\n",
    "\n",
    "def rotate(deg):\n",
    "    # degreeをradianに変換\n",
    "    r = np.radians(deg)\n",
    "    C = np.cos(r)\n",
    "    S = np.sin(r)\n",
    "    #2次元\n",
    "    R = np.matrix((\n",
    "        (C, -S),\n",
    "        (S, C)\n",
    "    ))\n",
    "    return R\n",
    "\n",
    "\n",
    "def main():\n",
    "    # 元の行列\n",
    "    a = np.array((1,0))\n",
    "    # 回転行列の生成\n",
    "    R = rotate(45)\n",
    "    # 回転後のベクトルを計算\n",
    "    b = np.dot(R,a)\n",
    "    print(\"a=\" + str(a))\n",
    "    print(\"R=\" + str(R))\n",
    "    print(\"b=\" + str(b))\n",
    "\n",
    "\n",
    "main()"
   ]
  },
  {
   "cell_type": "code",
   "execution_count": null,
   "metadata": {},
   "outputs": [],
   "source": []
  }
 ],
 "metadata": {
  "kernelspec": {
   "display_name": "Python 3",
   "language": "python",
   "name": "python3"
  },
  "language_info": {
   "codemirror_mode": {
    "name": "ipython",
    "version": 3
   },
   "file_extension": ".py",
   "mimetype": "text/x-python",
   "name": "python",
   "nbconvert_exporter": "python",
   "pygments_lexer": "ipython3",
   "version": "3.6.4"
  }
 },
 "nbformat": 4,
 "nbformat_minor": 2
}
